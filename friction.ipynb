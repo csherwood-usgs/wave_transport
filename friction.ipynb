{
 "cells": [
  {
   "cell_type": "markdown",
   "metadata": {
    "deletable": true,
    "editable": true
   },
   "source": [
    "### Friction\n",
    "\n",
    "In depth-averaged models like ADCIRC and XBeach, the dimensionless friction coeffcient $c_f$ relates bed stress $\\tau$ [Pa] to depth mean current speed $U$ [m/s].\n",
    "\n",
    "Friction velocity $u^{*}$ [m/s] is the square root of kinematic stress $\\tau / \\rho$ [m^2/s^2], where $\\rho$ [kg/m^3] is water density.\n",
    "\n",
    "Depth-averaged flow: $\\tau$ = $c_f \\rho U^2 = \\rho u^{*2}$ \n",
    "\n",
    "The law of the wall relates current speed to elevation as\n",
    "\n",
    "$u = (u^{*}/\\kappa) \\text{log}(z/zo)$\n",
    "\n",
    "Depth-mean flow can be calculated by integrating the velocity profile from $zo$ to $h$, and dividing by $h$:\n",
    "\n",
    "$U = (u*/\\kappa)[log(h/zo)-1]$\n",
    "\n",
    "The depth at which $U = u$ is $h/e$, so $U = (u*/\\kappa)log((h/e)/zo)$\n",
    "\n",
    "Rearranging to solve for $u^*$ and using eqn. 1 shows that\n",
    "\n",
    "$c_f = [ \\kappa / \\text{log}((h/e)/zo) ]^2 $ \n",
    "\n",
    "Mattock and Forbes use\n",
    "\n",
    "$c_f(n) = gn^2/h^{1/3}$\n",
    "\n",
    "to calculates stress from depth-mean flow velocity in ADCIRC.\n",
    "\n",
    "Solving for $n$ in terms of $zo$:\n",
    "\n",
    "$n = [h^{1/3}/g]^{1/2} \\kappa/\\text{log}((h/e)/zo)$\n",
    "\n",
    "Solving for $zo$ in terms of $n$:\n",
    "\n",
    "$zo = \\text{exp}[ -\\kappa/(gn^2/h^{1/3})^2 + \\text{log}(h/e) ]$"
   ]
  },
  {
   "cell_type": "code",
   "execution_count": 1,
   "metadata": {
    "collapsed": false,
    "deletable": true,
    "editable": true
   },
   "outputs": [
    {
     "name": "stdout",
     "output_type": "stream",
     "text": [
      "cd_zo =  0.00297478984297\n",
      "n from zo =  0.0255599681293\n",
      "cd_n from n =  0.00297478984297\n",
      "zo from n:  0.002\n"
     ]
    }
   ],
   "source": [
    "# check these formulae\n",
    "import numpy as np\n",
    "import matplotlib.pyplot as plt\n",
    "%matplotlib inline\n",
    "\n",
    "h = 10.\n",
    "g = 9.81\n",
    "vk = 0.41\n",
    "zr = 1.\n",
    "zo = 0.002\n",
    "\n",
    "cd_zo = (vk/np.log((h/np.e)/zo))**2\n",
    "print('cd_zo = ',cd_zo)\n",
    "\n",
    "n = np.sqrt(h**(1./3.)/g) * vk/np.log((h/np.e)/zo)\n",
    "print('n from zo = ',n)\n",
    "\n",
    "cd_n  = g*n**2/h**(1./3.)\n",
    "print('cd_n from n = ',cd_n)\n",
    "\n",
    "zor = np.exp( np.log(h/np.e)-vk*( g*n**2 / h**(1./3.))**(-1./2.) )\n",
    "\n",
    "print('zo from n: ',zor)"
   ]
  },
  {
   "cell_type": "code",
   "execution_count": 10,
   "metadata": {
    "collapsed": false,
    "deletable": true,
    "editable": true
   },
   "outputs": [
    {
     "name": "stdout",
     "output_type": "stream",
     "text": [
      "Analytical value of ubar:  0.916730877002\n"
     ]
    }
   ],
   "source": [
    "# Choose a shear velocity and calculate ubar\n",
    "us = .05\n",
    "ubar = us/vk * (np.log(h/zo)-1.)\n",
    "print('Analytical value of ubar: ', ubar)"
   ]
  },
  {
   "cell_type": "code",
   "execution_count": 3,
   "metadata": {
    "collapsed": false,
    "deletable": true,
    "editable": true
   },
   "outputs": [
    {
     "name": "stdout",
     "output_type": "stream",
     "text": [
      "Numerical estimate of ubar:  0.921924892574\n",
      "Analytical value of ubar  :  0.916730877002\n"
     ]
    }
   ],
   "source": [
    "# Compare numerical estimate of depth-mean velocity with analytical value\n",
    "z = np.logspace(np.log10(zo),np.log10(h),100) # the round-off error is still significant until the profile has 100K pts.\n",
    "u = us/vk * np.log(z/zo)\n",
    "dz = np.diff(z)\n",
    "# numerical integration to estimate depth-mean velocity\n",
    "ubar_num = np.sum( u[1:]*dz)/(h)\n",
    "print('Numerical estimate of ubar: ',ubar_num)\n",
    "ubar_ana = us/vk * np.log((h*1./(np.e))/zo)\n",
    "print('Value of ubar at h/e  : ', ubar_ana)"
   ]
  },
  {
   "cell_type": "code",
   "execution_count": 9,
   "metadata": {
    "collapsed": false,
    "deletable": true,
    "editable": true
   },
   "outputs": [
    {
     "data": {
      "text/plain": [
       "<matplotlib.legend.Legend at 0x82eb748>"
      ]
     },
     "execution_count": 9,
     "metadata": {},
     "output_type": "execute_result"
    },
    {
     "data": {
      "image/png": "[encoded data removed]",
      "text/plain": [
       "<matplotlib.figure.Figure at 0x818d828>"
      ]
     },
     "metadata": {},
     "output_type": "display_data"
    }
   ],
   "source": [
    "# plot profile and depth-mean speed\n",
    "plt.plot(u,z,label='log profile')\n",
    "plt.plot(ubar_ana,h/np.e,'or',label='depth-mean speed')\n",
    "plt.xlabel('Speed (m/s)')\n",
    "plt.ylabel('Elevation (m)')\n",
    "plt.legend()"
   ]
  }
 ],
 "metadata": {
  "kernelspec": {
   "display_name": "Python [conda env:IOOS3]",
   "language": "python",
   "name": "conda-env-IOOS3-py"
  },
  "language_info": {
   "codemirror_mode": {
    "name": "ipython",
    "version": 3
   },
   "file_extension": ".py",
   "mimetype": "text/x-python",
   "name": "python",
   "nbconvert_exporter": "python",
   "pygments_lexer": "ipython3",
   "version": "3.6.0"
  }
 },
 "nbformat": 4,
 "nbformat_minor": 2
}
