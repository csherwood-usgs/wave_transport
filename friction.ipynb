{
 "cells": [
  {
   "cell_type": "markdown",
   "metadata": {},
   "source": [
    "### Friction\n",
    "\n",
    "In depth-averaged models like ADCIRC and XBeach, the dimensionless friction coeffcient $c_f$ relates bed stress $\\tau$ [Pa] to depth mean current speed $U$ [m/s]. In ROMS,  $c_d$ relates $\\tau$ to $u$ at a specified elevation $z_r$ [m].\n",
    "\n",
    "Friction velocity $u^{*}$ [m/s] is the square root of kinematic stress $\\tau / \\rho$ [m^2 s^-2], where $\\rho$ [kg/m^3] is water density.\n",
    "\n",
    "Depth-averaged flow: $\\tau$ = $c_f \\rho U^2$ \n",
    "\n",
    "Flow with a log profile: $\\tau = c_d u^2 = \\rho u^{*2}$, where $c_d$ is linked with a specific $z_r$, e.g. 1 mab.\n",
    "\n",
    "The law of the wall relates current speed to elevation as\n",
    "\n",
    "$u = (u^{*}/\\kappa) \\text{log}(z/zo)$\n",
    "\n",
    "Depth-mean flow can be calculated by integrating the velocity profile from zo to h, and dividing by h:\n",
    "\n",
    "$U = (u*/\\kappa)[log(h/zo)-1]$\n",
    "\n",
    "The depth at which $U = u$ is $h/e$, so $U = u*/\\kappa)log((h/e)/zo)$\n",
    "\n",
    "Rearranging (2) to solve for $u^*$ and using (1) shows that\n",
    "\n",
    "$c_f(zo) = [ \\kappa / \\text{log}(z/zo) ]^2 $ \n",
    "\n",
    "Note that this assumes that the\n",
    "\n",
    "Mattock and Forbes use\n",
    "\n",
    "$c_f(n) = gn^2/h^{1/3}$\n",
    "\n",
    "to calculates stress from depth-mean flow velocity in ADCIRC. Note that, according to the XBeach manual, Manning's $n$ is:\n",
    "\n",
    "$c_f(n) = [gn^2/h^{1/3}]^{1/2}$ , but I don't think the square root should there, and it is not in the XBeach code.\n",
    "\n",
    "Solving for $n$ in terms of $zo$:\n",
    "\n",
    "$n = [h^{1/3}/g]^{1/2} \\kappa/\\text{log}(z/zo)$\n",
    "\n",
    "Solving for $zo$ in terms of $n$:\n",
    "\n",
    "$zo = \\text{exp}[ -\\kappa/(gn^2/h^{1/3})^2 + \\text{log}(z) ]$"
   ]
  },
  {
   "cell_type": "code",
   "execution_count": 47,
   "metadata": {},
   "outputs": [
    {
     "name": "stdout",
     "output_type": "stream",
     "text": [
      "cd_zo =  0.00435251443532\n",
      "n from zo =  0.0309173507567\n",
      "cd_n from n =  0.00435251443532\n",
      "zo from n:  0.002\n"
     ]
    }
   ],
   "source": [
    "# check these formulae\n",
    "import numpy as np\n",
    "import matplotlib.pyplot as plt\n",
    "%matplotlib inline\n",
    "\n",
    "h = 10.\n",
    "g = 9.81\n",
    "vk = 0.41\n",
    "zr = 1.\n",
    "zo = 0.002\n",
    "\n",
    "cd_zo = (vk/np.log(zr/zo))**2\n",
    "print('cd_zo = ',cd_zo)\n",
    "\n",
    "n = np.sqrt(h**(1./3.)/g) * vk/np.log(zr/zo)\n",
    "print('n from zo = ',n)\n",
    "\n",
    "cd_n  = g*n**2/h**(1./3.)\n",
    "print('cd_n from n = ',cd_n)\n",
    "\n",
    "zor = np.exp( np.log(zr)-vk*( g*n**2 / h**(1./3.))**(-1./2.) )\n",
    "\n",
    "print('zo from n: ',zor)"
   ]
  },
  {
   "cell_type": "code",
   "execution_count": 37,
   "metadata": {},
   "outputs": [
    {
     "name": "stdout",
     "output_type": "stream",
     "text": [
      "0.916730877002\n"
     ]
    }
   ],
   "source": [
    "us = .05\n",
    "ubar = us/vk * (np.log(h/zo)-1.)\n",
    "print(ubar)"
   ]
  },
  {
   "cell_type": "code",
   "execution_count": 55,
   "metadata": {},
   "outputs": [
    {
     "name": "stdout",
     "output_type": "stream",
     "text": [
      "Numerical estimate of ubar:  0.921924892574\n",
      "Analytical value of ubar  :  0.916730877002\n"
     ]
    }
   ],
   "source": [
    "z = np.logspace(np.log10(zo),np.log10(h),100) # note that the round-off error is still significant until the profile has 100K pts.\n",
    "# print(z)\n",
    "u = us/vk * np.log(z/zo)\n",
    "# print(u)\n",
    "dz = np.diff(z)\n",
    "# print(dz)\n",
    "ubar_num = np.sum( u[1:]*dz)/(h)\n",
    "print('Numerical estimate of ubar: ',ubar_num)\n",
    "ubar_ana = us/vk * np.log((h*1./(np.e))/zo)\n",
    "print('Analytical value of ubar  : ', ubar_ana)"
   ]
  },
  {
   "cell_type": "code",
   "execution_count": 56,
   "metadata": {},
   "outputs": [
    {
     "name": "stdout",
     "output_type": "stream",
     "text": [
      "0.36787944117144233\n",
      "Analytical value of ubar:  0.916730877002\n"
     ]
    },
    {
     "data": {
      "text/plain": [
       "[<matplotlib.lines.Line2D at 0x17558972748>]"
      ]
     },
     "execution_count": 56,
     "metadata": {},
     "output_type": "execute_result"
    },
    {
     "data": {
      "image/png": "[encoded data removed]",
      "text/plain": [
       "<matplotlib.figure.Figure at 0x17558972550>"
      ]
     },
     "metadata": {},
     "output_type": "display_data"
    }
   ],
   "source": [
    "print(1./(np.e))\n",
    "\n",
    "print('Analytical value of ubar: ',us/vk * np.log((h*1./(np.e))/zo) )\n",
    "\n",
    "plt.plot(u,z)\n",
    "plt.plot(ubar_ana,h/np.e,'or')"
   ]
  }
 ],
 "metadata": {
  "kernelspec": {
   "display_name": "Python 3",
   "language": "python",
   "name": "python3"
  },
  "language_info": {
   "codemirror_mode": {
    "name": "ipython",
    "version": 3
   },
   "file_extension": ".py",
   "mimetype": "text/x-python",
   "name": "python",
   "nbconvert_exporter": "python",
   "pygments_lexer": "ipython3",
   "version": "3.6.3"
  }
 },
 "nbformat": 4,
 "nbformat_minor": 2
}
