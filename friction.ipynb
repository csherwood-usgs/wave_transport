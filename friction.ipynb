{
 "cells": [
  {
   "cell_type": "markdown",
   "metadata": {},
   "source": [
    "### Friction\n",
    "\n",
    "The dimensionless friction coeffcient $c_f$ relates bed stress $\\tau$ [Pa] to current speed $u$ [m/s] at a specified elevation $z$ [m]. Friction velocity $u^{*}$ [m/s] is the square root of kinematic stress $\\tau / \\rho$ [m^2 s^-2], where $\\rho$ [kg/m^3] is water density.\n",
    "\n",
    "$\\tau$ = $c_f \\rho u^2 = \\rho u^{*2}$ (1)\n",
    "\n",
    "The law of the wall relates current speed to elevation as\n",
    "\n",
    "$u = (u^{*}/\\kappa) \\text{log}(z/zo)$ (2)\n",
    "\n",
    "Rearranging (2) to solve for $u^*$ and using (1) shows that\n",
    "\n",
    "$c_f(zo) = [ \\kappa / \\text{log}(z/zo) ]^2 $ \n",
    "\n",
    "Manning's $n$ is a depth-dependent roughness coefficient:\n",
    "\n",
    "$c_f(n) = [gn^2/h^{1/3}]^{1/2}$\n",
    "\n",
    "Solving for $n$ in terms of $zo$:\n",
    "\n",
    "$n = [h^{1/3}/g]^{1/2} [\\kappa/\\text{log}(z/zo)]^2$\n",
    "\n",
    "Solving for $zo$ in terms of $n$:\n",
    "\n",
    "$zo = \\text{exp}[ -\\kappa/(gn^2/h^{1/3}) + \\text{log}(z) ]$"
   ]
  },
  {
   "cell_type": "code",
   "execution_count": 15,
   "metadata": {},
   "outputs": [
    {
     "name": "stdout",
     "output_type": "stream",
     "text": [
      "cd_zo =  0.00435251443532\n",
      "n from zo =  0.00203972858939\n",
      "cd_n from n =  0.00435251443532\n",
      "zo from n:  0.002\n"
     ]
    }
   ],
   "source": [
    "# check these formulae\n",
    "import numpy as np\n",
    "\n",
    "h = 10.\n",
    "g = 9.81\n",
    "vk = 0.41\n",
    "z = 1.\n",
    "zo = 0.002\n",
    "\n",
    "cd_zo = (vk/np.log(z/zo))**2\n",
    "print('cd_zo = ',cd_zo)\n",
    "\n",
    "n = np.sqrt(h**(1./3.)/g) * (vk/np.log(z/zo))**2\n",
    "print('n from zo = ',n)\n",
    "\n",
    "cd_n  = np.sqrt( g*n**2/h**(1./3.) )\n",
    "print('cd_n from n = ',cd_n)\n",
    "\n",
    "zor = np.exp( np.log(z)-vk*( g*n**2 / h**(1./3.))**(-1./4.) )\n",
    "\n",
    "print('zo from n: ',zor)"
   ]
  },
  {
   "cell_type": "code",
   "execution_count": null,
   "metadata": {},
   "outputs": [],
   "source": []
  },
  {
   "cell_type": "code",
   "execution_count": null,
   "metadata": {},
   "outputs": [],
   "source": []
  }
 ],
 "metadata": {
  "kernelspec": {
   "display_name": "Python 3",
   "language": "python",
   "name": "python3"
  },
  "language_info": {
   "codemirror_mode": {
    "name": "ipython",
    "version": 3
   },
   "file_extension": ".py",
   "mimetype": "text/x-python",
   "name": "python",
   "nbconvert_exporter": "python",
   "pygments_lexer": "ipython3",
   "version": "3.6.3"
  }
 },
 "nbformat": 4,
 "nbformat_minor": 2
}
